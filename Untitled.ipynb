{
 "cells": [
  {
   "cell_type": "code",
   "execution_count": 1,
   "id": "834fdaee",
   "metadata": {},
   "outputs": [
    {
     "name": "stdout",
     "output_type": "stream",
     "text": [
      "[2002, 2009, 2016, 2023, 2037, 2044, 2051, 2058, 2072, 2079, 2086, 2093, 2107, 2114, 2121, 2128, 2142, 2149, 2156, 2163, 2177, 2184, 2191, 2198, 2212, 2219, 2226, 2233, 2247, 2254, 2261, 2268, 2282, 2289, 2296, 2303, 2317, 2324, 2331, 2338, 2352, 2359, 2366, 2373, 2387, 2394, 2401, 2408, 2422, 2429, 2436, 2443, 2457, 2464, 2471, 2478, 2492, 2499, 2506, 2513, 2527, 2534, 2541, 2548, 2562, 2569, 2576, 2583, 2597, 2604, 2611, 2618, 2632, 2639, 2646, 2653, 2667, 2674, 2681, 2688, 2702, 2709, 2716, 2723, 2737, 2744, 2751, 2758, 2772, 2779, 2786, 2793, 2807, 2814, 2821, 2828, 2842, 2849, 2856, 2863, 2877, 2884, 2891, 2898, 2912, 2919, 2926, 2933, 2947, 2954, 2961, 2968, 2982, 2989, 2996, 3003, 3017, 3024, 3031, 3038, 3052, 3059, 3066, 3073, 3087, 3094, 3101, 3108, 3122, 3129, 3136, 3143, 3157, 3164, 3171, 3178, 3192, 3199]\n"
     ]
    }
   ],
   "source": [
    "y=[]\n",
    "for x in range(2000 , 3200):\n",
    "    if (x%7==0)and(x%5!=0):\n",
    "        y.append(x)\n",
    "print(y)"
   ]
  },
  {
   "cell_type": "code",
   "execution_count": 2,
   "id": "c01ef2ba",
   "metadata": {},
   "outputs": [
    {
     "name": "stdout",
     "output_type": "stream",
     "text": [
      "5\n",
      "120\n"
     ]
    }
   ],
   "source": [
    "y= int(input())\n",
    "i=1\n",
    "for x in range(i,y):\n",
    "   y=i*y\n",
    "   i=i+1\n",
    "print(y)\n",
    "\n"
   ]
  },
  {
   "cell_type": "code",
   "execution_count": 3,
   "id": "8b36d606",
   "metadata": {},
   "outputs": [
    {
     "name": "stdout",
     "output_type": "stream",
     "text": [
      "5\n",
      "{1: 1, 2: 4, 3: 9, 4: 16, 5: 25}\n"
     ]
    }
   ],
   "source": [
    "n=int(input())\n",
    "mydict={}\n",
    "\n",
    "for i in range(1,n+1):\n",
    "    mydict[i]=i*i\n",
    "    \n",
    "      \n",
    "print(mydict)\n",
    "  \n",
    "    \n",
    "\n"
   ]
  },
  {
   "cell_type": "code",
   "execution_count": null,
   "id": "113cd2b5",
   "metadata": {},
   "outputs": [],
   "source": [
    "x=\"kitten\"\n",
    "x=x.replace('k','')\n",
    "print(x)\n"
   ]
  },
  {
   "cell_type": "code",
   "execution_count": null,
   "id": "b1b4afa2",
   "metadata": {},
   "outputs": [],
   "source": [
    "x=\"kitten\"\n",
    "x=x.replace('i','')\n",
    "print(x)"
   ]
  },
  {
   "cell_type": "code",
   "execution_count": null,
   "id": "32a63b78",
   "metadata": {},
   "outputs": [],
   "source": [
    "x=\"kitten\"\n",
    "x=x.replace('e','')\n",
    "print(x)"
   ]
  },
  {
   "cell_type": "code",
   "execution_count": null,
   "id": "f620eed5",
   "metadata": {},
   "outputs": [],
   "source": [
    "import numpy as np\n",
    "new_array=np.array([[0,1],[2,3],[4,5]])\n",
    "new_array.tolist()\n",
    "print(new_array)"
   ]
  },
  {
   "cell_type": "code",
   "execution_count": null,
   "id": "0fa6fa20",
   "metadata": {},
   "outputs": [],
   "source": [
    "import numpy as np\n",
    "x_array=np.array([[0,1,2]])\n",
    "y_array=np.array([[2,1,0]])\n",
    "np.cov(x_array,y_array)\n"
   ]
  },
  {
   "cell_type": "code",
   "execution_count": null,
   "id": "081d374f",
   "metadata": {},
   "outputs": [],
   "source": [
    "import math\n",
    "x=input()\n",
    "x=x.split(',')\n",
    "result=[]\n",
    "c=50\n",
    "h=30\n",
    "for d in x:\n",
    "    q=(2*c*int(d))/h\n",
    "    v=round(math.sqrt(q))\n",
    "    result.append(v)\n",
    "    \n",
    "\n",
    "\n",
    "print(result)"
   ]
  },
  {
   "cell_type": "code",
   "execution_count": null,
   "id": "f8f23025",
   "metadata": {},
   "outputs": [],
   "source": []
  }
 ],
 "metadata": {
  "kernelspec": {
   "display_name": "Python 3 (ipykernel)",
   "language": "python",
   "name": "python3"
  },
  "language_info": {
   "codemirror_mode": {
    "name": "ipython",
    "version": 3
   },
   "file_extension": ".py",
   "mimetype": "text/x-python",
   "name": "python",
   "nbconvert_exporter": "python",
   "pygments_lexer": "ipython3",
   "version": "3.11.3"
  }
 },
 "nbformat": 4,
 "nbformat_minor": 5
}
